{
 "cells": [
  {
   "cell_type": "code",
   "execution_count": 1,
   "metadata": {},
   "outputs": [
    {
     "name": "stderr",
     "output_type": "stream",
     "text": [
      "/anaconda3/lib/python3.6/site-packages/h5py/__init__.py:36: FutureWarning: Conversion of the second argument of issubdtype from `float` to `np.floating` is deprecated. In future, it will be treated as `np.float64 == np.dtype(float).type`.\n",
      "  from ._conv import register_converters as _register_converters\n",
      "Using TensorFlow backend.\n"
     ]
    }
   ],
   "source": [
    "import cv2\n",
    "import numpy as np\n",
    "import math\n",
    "import matplotlib.pyplot as plt\n",
    "import os\n",
    "import tensorflow\n",
    "from keras import layers\n",
    "from keras import models\n",
    "from keras.utils import to_categorical\n",
    "from sklearn.model_selection import train_test_split\n",
    "%matplotlib inline\n",
    "import warnings\n",
    "warnings.filterwarnings(\"ignore\")"
   ]
  },
  {
   "cell_type": "markdown",
   "metadata": {},
   "source": [
    "# Fonctions de base"
   ]
  },
  {
   "cell_type": "code",
   "execution_count": 2,
   "metadata": {},
   "outputs": [],
   "source": [
    "def loadImage(src):\n",
    "    img=cv2.imread(src,0)\n",
    "    return img"
   ]
  },
  {
   "cell_type": "code",
   "execution_count": 3,
   "metadata": {},
   "outputs": [],
   "source": [
    "def printImage(I):\n",
    "    # Affichage avec matplotlib (conversion BGR2RGB puis show)\n",
    "    rgb = cv2.cvtColor(I, cv2.COLOR_BGR2RGB)\n",
    "    plt.imshow(rgb,interpolation='nearest')\n",
    "    plt.show()"
   ]
  },
  {
   "cell_type": "markdown",
   "metadata": {},
   "source": [
    "# Réduction du bruit"
   ]
  },
  {
   "cell_type": "code",
   "execution_count": 4,
   "metadata": {},
   "outputs": [],
   "source": [
    "def reduceNoise(I, k):  # appliquer k = 7\n",
    "    return cv2.medianBlur(I, k)"
   ]
  },
  {
   "cell_type": "markdown",
   "metadata": {},
   "source": [
    "# Version A : Seuillage"
   ]
  },
  {
   "cell_type": "code",
   "execution_count": 5,
   "metadata": {},
   "outputs": [],
   "source": [
    "def thresholding(I,s):  # appliquer s = 50\n",
    "    ret,thresh1 = cv2.threshold(I,s,255,cv2.THRESH_BINARY)\n",
    "    return thresh1"
   ]
  },
  {
   "cell_type": "markdown",
   "metadata": {},
   "source": [
    "# Version B : Détection de contours de Canny"
   ]
  },
  {
   "cell_type": "code",
   "execution_count": 6,
   "metadata": {},
   "outputs": [],
   "source": [
    "def edgesCanny(I, Vmin, Vmax):  # appliquer Vmin = 20 et Vmax = 150\n",
    "    return cv2.Canny(I, Vmin, Vmax)"
   ]
  },
  {
   "cell_type": "markdown",
   "metadata": {},
   "source": [
    "# Centrer sur la main"
   ]
  },
  {
   "cell_type": "code",
   "execution_count": 7,
   "metadata": {},
   "outputs": [],
   "source": [
    "def cornersDetection(I):\n",
    "    # Détection du point de contour le plus à gauche\n",
    "    gauche = 0  # indice de la colonne du point de contour le plus à gauche\n",
    "    j = 0\n",
    "    while len(I[:,j][I[:,j]==255])==0 and j<len(I[0])-1:  # tant que les colonnes ne contiennent aucun pixel blanc\n",
    "        j += 1 # parcours des colonnes de gauche à droite\n",
    "    if j!=len(I[0])-1:\n",
    "        gauche = j\n",
    "        \n",
    "    # Détection du point de contour le plus à droite\n",
    "    droite = len(I[0])-1  # indice de la colonne du point de contour le plus à droite\n",
    "    j = len(I[0])-1\n",
    "    while len(I[:,j][I[:,j]==255])==0 and j>0:  # tant que les colonnes ne contiennent aucun pixel blanc\n",
    "        j -= 1 # parcours des colonnes de droite à gauche\n",
    "    if j!=0:\n",
    "        droite = j\n",
    "    \n",
    "    return gauche, droite"
   ]
  },
  {
   "cell_type": "code",
   "execution_count": 8,
   "metadata": {},
   "outputs": [],
   "source": [
    "def resizeImage(I):\n",
    "    gauche, droite = cornersDetection(I)\n",
    "    x = droite - gauche + 1\n",
    "    if x < 240:\n",
    "        if gauche < int((240-x)/2): # recadrage tout à gauche\n",
    "            gauche = 0\n",
    "            droite = 239\n",
    "        elif len(I[0]) - droite < int((240-x)/2):  # recadrage tout à droite\n",
    "            gauche = len(I[0])-239\n",
    "            droite = len(I[0])\n",
    "        else: # recadrage centré sur la main\n",
    "            droite = droite + math.ceil((240-x)/2)\n",
    "            gauche = gauche - int((240-x)/2)\n",
    "    elif x > 240:  # troncature de l'image centrée sur la main\n",
    "        droite = droite - math.ceil((x-240)/2)\n",
    "        gauche = gauche + int((x-240)/2)\n",
    "    return I[:,gauche:droite+1]"
   ]
  },
  {
   "cell_type": "markdown",
   "metadata": {},
   "source": [
    "# Deep learning"
   ]
  },
  {
   "cell_type": "code",
   "execution_count": 9,
   "metadata": {},
   "outputs": [],
   "source": [
    "dict_labels = {'01_palm': 0,\n",
    " '02_l': 1,\n",
    " '03_fist': 2,\n",
    " '04_fist_moved': 3,\n",
    " '05_thumb': 4,\n",
    " '06_index': 5,\n",
    " '07_ok': 6,\n",
    " '08_palm_moved': 7,\n",
    " '09_c': 8,\n",
    " '10_down': 9}"
   ]
  },
  {
   "cell_type": "code",
   "execution_count": 10,
   "metadata": {},
   "outputs": [],
   "source": [
    "def upload_data(version): #version in ['raw', 'seuil', 'contours']\n",
    "    X = []\n",
    "    Y = []\n",
    "    for i in range(0, 10): # Loop over the ten top-level folders\n",
    "        for j in dict_labels.keys():\n",
    "            for k in os.listdir('data/0' + str(i) + '/' + j + '/'):\n",
    "                if not k.startswith('.'): # Again avoid hidden folders\n",
    "                    img = loadImage('data/0' + str(i) + '/' + j + '/' + k)\n",
    "                    if version == 'seuil':\n",
    "                        img_seuil = thresholding(img,50)\n",
    "                        X.append(resizeImage(img_seuil))\n",
    "                    elif version == 'contours':\n",
    "                        img_contours = edgesCanny(img, 20, 150)\n",
    "                        X.append(resizeImage(img_contours))\n",
    "                    else:\n",
    "                        X.append(img)\n",
    "                    Y.append(dict_labels[j])\n",
    "    return X,Y"
   ]
  },
  {
   "cell_type": "code",
   "execution_count": 11,
   "metadata": {},
   "outputs": [],
   "source": [
    "def permutation(X,Y):\n",
    "    # Pour mélanger les images\n",
    "    p = np.random.permutation(len(X))\n",
    "    X_copy = list(X)\n",
    "    Y_copy = list(Y)\n",
    "    for i in range(len(X)):\n",
    "        X[i] = X_copy[p[i]]\n",
    "        Y[i] = Y_copy[p[i]]\n",
    "    return(X,Y)"
   ]
  },
  {
   "cell_type": "code",
   "execution_count": 12,
   "metadata": {},
   "outputs": [],
   "source": [
    "def scale_data(X,Y):\n",
    "    # On normalise les données\n",
    "    X = np.array(X)\n",
    "    X = X.reshape((len(X), X[0].shape[0], X[0].shape[1], 1))\n",
    "    X = X.astype('float32')/255\n",
    "    Y = np.array(Y)\n",
    "    Y = to_categorical(Y)\n",
    "    return(X,Y)"
   ]
  },
  {
   "cell_type": "code",
   "execution_count": 13,
   "metadata": {},
   "outputs": [],
   "source": [
    "def preprocessing_data(version):\n",
    "    print('Uploading...')\n",
    "    X,Y = upload_data(version)\n",
    "    print('Permutation...')\n",
    "    x,Y = permutation(X,Y)\n",
    "    print('Scaling...')\n",
    "    X,Y = scale_data(X,Y)\n",
    "    print('Spliting...')\n",
    "    X_train,X_test,Y_train,Y_test = train_test_split(X,Y,test_size = 0.2)\n",
    "    return X_train, X_test, Y_train, Y_test"
   ]
  },
  {
   "cell_type": "code",
   "execution_count": 14,
   "metadata": {},
   "outputs": [],
   "source": [
    "def create_CNN(optimizer, loss, metrics, input_shape):\n",
    "\n",
    "    # On crée le modèle\n",
    "    model = models.Sequential()\n",
    "\n",
    "    # On ajoute des couches au modèle\n",
    "    model.add(layers.Conv2D(filters=32, kernel_size=(5, 5), strides=(1, 1), padding='valid',  activation='relu', input_shape=input_shape)) \n",
    "    model.add(layers.MaxPooling2D(pool_size=(2, 2)))\n",
    "    model.add(layers.Conv2D(filters=64, kernel_size=(3, 3), activation='relu'))\n",
    "    model.add(layers.MaxPooling2D(pool_size=(2, 2)))\n",
    "    model.add(layers.Conv2D(filters=64, kernel_size=(3, 3), activation='relu'))\n",
    "    model.add(layers.MaxPooling2D(pool_size=(2, 2)))\n",
    "    model.add(layers.Flatten())\n",
    "    model.add(layers.Dense(64, activation='relu'))\n",
    "    model.add(layers.Dense(10, activation='softmax'))\n",
    "    \n",
    "    # On compile\n",
    "    model.compile(optimizer=optimizer, loss=loss, metrics=metrics)\n",
    "    \n",
    "    return model"
   ]
  },
  {
   "cell_type": "code",
   "execution_count": 15,
   "metadata": {},
   "outputs": [],
   "source": [
    "def create_MLP(optimizer, loss, metrics, input_dim):\n",
    "\n",
    "    # On crée le modèle\n",
    "    model_MLP = models.Sequential()\n",
    "\n",
    "    # On ajoute des couches au modèle\n",
    "    model_MLP.add(layers.core.Dense(64, input_shape=(input_dim,)))\n",
    "    model_MLP.add(layers.core.Activation('relu'))\n",
    "    model_MLP.add(layers.core.Dense(64))\n",
    "    model_MLP.add(layers.core.Activation('relu'))\n",
    "    model_MLP.add(layers.core.Dense(10))\n",
    "    model_MLP.add(layers.core.Activation('softmax'))\n",
    "\n",
    "    model_MLP.compile(optimizer=optimizer,loss=loss, metrics=metrics)\n",
    "    \n",
    "    return model_MLP"
   ]
  },
  {
   "cell_type": "code",
   "execution_count": 16,
   "metadata": {},
   "outputs": [],
   "source": [
    "def fit_model(model, X_train, Y_train, X_test, Y_test, epochs=3, batch_size=64):\n",
    "    history = model.fit(X_train, Y_train, epochs=epochs, batch_size=batch_size)\n",
    "    score = model.evaluate(X_test, Y_test, batch_size=batch_size)\n",
    "    return score"
   ]
  },
  {
   "cell_type": "code",
   "execution_count": 17,
   "metadata": {},
   "outputs": [],
   "source": [
    "def compute_score(version):\n",
    "    print('Preprocessing data...')\n",
    "    X_train, X_test, Y_train, Y_test = preprocessing_data(version)\n",
    "    \n",
    "    # CNN\n",
    "    print('Creating model CNN...')\n",
    "    model_CNN = create_CNN('sgd', 'categorical_crossentropy', ['accuracy'], (X_train.shape[1], X_train.shape[2], X_train.shape[3]))\n",
    "    print('CNN : ')\n",
    "    score_cnn = fit_model(model_CNN, X_train, Y_train, X_test, Y_test)\n",
    "    print('Loss : ', score_cnn[0])\n",
    "    print('Accuracy : ', score_cnn[1])\n",
    "    \n",
    "    # MLP\n",
    "    print('Creating model MLP...')\n",
    "    X_train = X_train.reshape(X_train.shape[0], X_train.shape[1]*X_train.shape[2]*X_train.shape[3])\n",
    "    X_test = X_test.reshape(X_test.shape[0], X_test.shape[1]*X_test.shape[2]*X_test.shape[3])\n",
    "    model_MLP = create_MLP('sgd', 'categorical_crossentropy', ['accuracy'], X_train.shape[1])\n",
    "    print('MLP : ')\n",
    "    score_mlp = fit_model(model_MLP, X_train, Y_train, X_test, Y_test)\n",
    "    print('Loss : ', score_mlp[0])\n",
    "    print('Accuracy : ', score_mlp[1])"
   ]
  },
  {
   "cell_type": "code",
   "execution_count": 18,
   "metadata": {},
   "outputs": [
    {
     "name": "stdout",
     "output_type": "stream",
     "text": [
      "SEUILLAGE\n",
      "Preprocessing data...\n",
      "Uploading...\n",
      "Permutation...\n",
      "Scaling...\n",
      "Spliting...\n",
      "Creating model CNN...\n",
      "WARNING:tensorflow:From /anaconda3/lib/python3.6/site-packages/keras/backend/tensorflow_backend.py:1205: calling reduce_prod (from tensorflow.python.ops.math_ops) with keep_dims is deprecated and will be removed in a future version.\n",
      "Instructions for updating:\n",
      "keep_dims is deprecated, use keepdims instead\n",
      "WARNING:tensorflow:From /anaconda3/lib/python3.6/site-packages/keras/backend/tensorflow_backend.py:2755: calling reduce_sum (from tensorflow.python.ops.math_ops) with keep_dims is deprecated and will be removed in a future version.\n",
      "Instructions for updating:\n",
      "keep_dims is deprecated, use keepdims instead\n",
      "WARNING:tensorflow:From /anaconda3/lib/python3.6/site-packages/keras/backend/tensorflow_backend.py:1290: calling reduce_mean (from tensorflow.python.ops.math_ops) with keep_dims is deprecated and will be removed in a future version.\n",
      "Instructions for updating:\n",
      "keep_dims is deprecated, use keepdims instead\n",
      "CNN : \n",
      "Epoch 1/3\n",
      "16000/16000 [==============================] - 2969s - loss: 1.1509 - acc: 0.6322   \n",
      "Epoch 2/3\n",
      "16000/16000 [==============================] - 2689s - loss: 0.2266 - acc: 0.9423   \n",
      "Epoch 3/3\n",
      "16000/16000 [==============================] - 2730s - loss: 0.2808 - acc: 0.9464   \n",
      "4000/4000 [==============================] - 223s   \n",
      "Loss :  0.12429726666212082\n",
      "Accuracy :  0.974\n",
      "Creating model MLP...\n",
      "MLP : \n",
      "Epoch 1/3\n",
      "16000/16000 [==============================] - 25s - loss: 0.7709 - acc: 0.7849    \n",
      "Epoch 2/3\n",
      "16000/16000 [==============================] - 22s - loss: 0.1513 - acc: 0.9763    \n",
      "Epoch 3/3\n",
      "16000/16000 [==============================] - 21s - loss: 0.0751 - acc: 0.9894    \n",
      "4000/4000 [==============================] - 2s     \n",
      "Loss :  0.06633645966649056\n",
      "Accuracy :  0.9885\n",
      "CONTOURS\n",
      "Preprocessing data...\n",
      "Uploading...\n",
      "Permutation...\n",
      "Scaling...\n",
      "Spliting...\n",
      "Creating model CNN...\n",
      "CNN : \n",
      "Epoch 1/3\n",
      "16000/16000 [==============================] - 2761s - loss: 1.5438 - acc: 0.5379   \n",
      "Epoch 2/3\n",
      "16000/16000 [==============================] - 2785s - loss: 0.2938 - acc: 0.9267   \n",
      "Epoch 3/3\n",
      "16000/16000 [==============================] - 2746s - loss: 0.1114 - acc: 0.9720   \n",
      "4000/4000 [==============================] - 226s   \n",
      "Loss :  0.13501395308971406\n",
      "Accuracy :  0.96125\n",
      "Creating model MLP...\n",
      "MLP : \n",
      "Epoch 1/3\n",
      "16000/16000 [==============================] - 24s - loss: 1.9992 - acc: 0.4194    \n",
      "Epoch 2/3\n",
      "16000/16000 [==============================] - 22s - loss: 1.1135 - acc: 0.8180    \n",
      "Epoch 3/3\n",
      "16000/16000 [==============================] - 22s - loss: 0.5809 - acc: 0.9051    \n",
      "3968/4000 [============================>.] - ETA: 0sLoss :  0.544417767047882\n",
      "Accuracy :  0.891\n"
     ]
    }
   ],
   "source": [
    "#print('RAW DATA')\n",
    "#compute_score('raw')\n",
    "\n",
    "print('SEUILLAGE')\n",
    "compute_score('seuil')\n",
    "\n",
    "print('CONTOURS')\n",
    "compute_score('contours')"
   ]
  }
 ],
 "metadata": {
  "kernelspec": {
   "display_name": "Python 3",
   "language": "python",
   "name": "python3"
  },
  "language_info": {
   "codemirror_mode": {
    "name": "ipython",
    "version": 3
   },
   "file_extension": ".py",
   "mimetype": "text/x-python",
   "name": "python",
   "nbconvert_exporter": "python",
   "pygments_lexer": "ipython3",
   "version": "3.7.2"
  }
 },
 "nbformat": 4,
 "nbformat_minor": 2
}
